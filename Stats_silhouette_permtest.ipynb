{
 "cells": [
  {
   "cell_type": "markdown",
   "id": "96aafe3d-17ab-4b33-a9c7-60fdf0c7a292",
   "metadata": {},
   "source": [
    "# Imports"
   ]
  },
  {
   "cell_type": "code",
   "execution_count": 2,
   "id": "f8c9bf3b-021d-45dc-a5e2-b78d6e8c5639",
   "metadata": {
    "tags": []
   },
   "outputs": [],
   "source": [
    "from pathlib import Path\n",
    "import numpy as np\n",
    "import pickle\n",
    "import matplotlib.pyplot as plt\n",
    "import pandas as pd\n",
    "from scipy.optimize import curve_fit"
   ]
  },
  {
   "cell_type": "markdown",
   "id": "dd1b8ebb-1b51-49ca-817e-2c93d200b376",
   "metadata": {},
   "source": [
    "# Useful functions"
   ]
  },
  {
   "cell_type": "code",
   "execution_count": 3,
   "id": "c2396194-994d-4c4f-a123-da6874d367e4",
   "metadata": {
    "tags": []
   },
   "outputs": [],
   "source": [
    "def nan_helper(y):\n",
    "    \"\"\"Helper to handle indices and logical indices of NaNs.\n",
    "\n",
    "    Input:\n",
    "        - y, 1d numpy array with possible NaNs\n",
    "    Output:\n",
    "        - nans, logical indices of NaNs\n",
    "        - index, a function, with signature indices= index(logical_indices),\n",
    "          to convert logical indices of NaNs to 'equivalent' indices\n",
    "    Example:\n",
    "        >>> # linear interpolation of NaNs\n",
    "        >>> nans, x= nan_helper(y)\n",
    "        >>> y[nans]= np.interp(x(nans), x(~nans), y[~nans])\n",
    "    \"\"\"\n",
    "\n",
    "    return np.isnan(y), lambda z: z.nonzero()[0]"
   ]
  },
  {
   "cell_type": "code",
   "execution_count": 4,
   "id": "ebd0cb83-268d-4c3b-8649-945b75d537f4",
   "metadata": {
    "tags": []
   },
   "outputs": [],
   "source": [
    "def interpolate_nans(data):\n",
    "\n",
    "    data_interp = data.copy()\n",
    "    for i in range(data_interp.shape[0]):\n",
    "        y = data_interp[i,:]\n",
    "        nans, x = nan_helper(y)\n",
    "        y[nans]= np.interp(x(nans), x(~nans), y[~nans])\n",
    "        data_interp[i,:] = y\n",
    "    return data_interp"
   ]
  },
  {
   "cell_type": "code",
   "execution_count": 5,
   "id": "2f6f4546-8ebe-491b-afbf-0c00ac903606",
   "metadata": {
    "tags": []
   },
   "outputs": [],
   "source": [
    "def one_phase_ass(t, y0, ylim, k):\n",
    "    return y0 + (ylim - y0) * (1 - np.exp(-k * t))"
   ]
  },
  {
   "cell_type": "code",
   "execution_count": 6,
   "id": "8bb2a23c-c84c-4c18-a3ec-69f9a7fbb382",
   "metadata": {
    "tags": []
   },
   "outputs": [],
   "source": [
    "def shuffle_data(data, rng):\n",
    "    data_copy = data.copy()\n",
    "    rng.shuffle(data_copy,axis=0)\n",
    "    return data_copy"
   ]
  },
  {
   "cell_type": "code",
   "execution_count": 7,
   "id": "dd1e295c-880e-451d-aa45-b8bf080f9da1",
   "metadata": {
    "tags": []
   },
   "outputs": [],
   "source": [
    "def compute_means(data, n1):\n",
    "    data1_mean = np.nanmean(data[:n1], axis=0)\n",
    "    data2_mean = np.nanmean(data[n1:], axis=0)\n",
    "    return np.vstack((data1_mean, data2_mean))"
   ]
  },
  {
   "cell_type": "code",
   "execution_count": 8,
   "id": "79969784-71df-44f5-8f18-07fb3c309be3",
   "metadata": {
    "tags": []
   },
   "outputs": [],
   "source": [
    "def compute_stderr(data, n1):\n",
    "    n2 = data.shape[0] - n1\n",
    "    data1_stderr = np.nanstd(data[:n1], axis=0) / np.sqrt(n1)\n",
    "    data2_stderr = np.nanstd(data[n1:], axis=0) / np.sqrt(n2)\n",
    "    return np.vstack((data1_stderr, data2_stderr))"
   ]
  },
  {
   "cell_type": "code",
   "execution_count": 9,
   "id": "6a2c46cc-7547-4577-9328-c5f364c2b3a0",
   "metadata": {
    "tags": []
   },
   "outputs": [],
   "source": [
    "def fit_params(data, fun, x, bounds):\n",
    "    n_dat = data.shape[0]\n",
    "    params_fit = []\n",
    "    for i in range(n_dat):\n",
    "        popt, _ = curve_fit(fun, x, data[i,:], bounds=bounds)\n",
    "        params_fit.append(popt)\n",
    "    return params_fit"
   ]
  },
  {
   "cell_type": "code",
   "execution_count": 10,
   "id": "6e6fa940-fc9e-40df-8143-657af994cb6e",
   "metadata": {
    "tags": []
   },
   "outputs": [],
   "source": [
    "def compute_mean_fit(data, n1, fun, bounds):\n",
    "    n_trials = data.shape[1]\n",
    "    x = np.arange(1,n_trials+1)\n",
    "    data_means = compute_means(data, n1)\n",
    "    params_fit = fit_params(data_means, one_phase_ass,x, bounds)\n",
    "    data1_mean = data_means[0,:]\n",
    "    data2_mean = data_means[1,:]\n",
    "    params1 = params_fit[0]\n",
    "    params2 = params_fit[1]\n",
    "    return data1_mean, data2_mean, params1, params2"
   ]
  },
  {
   "cell_type": "code",
   "execution_count": 11,
   "id": "a2b9dc30-cf50-4617-a8ed-8bcd2086a1e7",
   "metadata": {
    "tags": []
   },
   "outputs": [],
   "source": [
    "def compute_params_suffle(data,rng,n1,fun,bounds,n_shuffle,n_params=3):\n",
    "    n_trials = data.shape[1]\n",
    "    x = np.arange(1,n_trials+1)\n",
    "    \n",
    "    params_shuffle_ctr = np.empty((n_shuffle,n_params))\n",
    "    params_shuffle_h3 = np.empty((n_shuffle,n_params))\n",
    "\n",
    "    for i_shuf in range(n_shuffle):\n",
    "        data_permut = shuffle_data(data, rng)\n",
    "        data_means = compute_means(data_permut, n1)\n",
    "        params_shuffle_all = fit_params(data_means,one_phase_ass, x,bounds)\n",
    "        params_shuffle_ctr[i_shuf,:] = np.array(params_shuffle_all[0])\n",
    "        params_shuffle_h3[i_shuf,:] = np.array(params_shuffle_all[1])   \n",
    "    return params_shuffle_h3, params_shuffle_ctr\n"
   ]
  },
  {
   "cell_type": "code",
   "execution_count": 12,
   "id": "a5e3ce2a-430d-4b50-9458-2ee558d04469",
   "metadata": {
    "tags": []
   },
   "outputs": [],
   "source": [
    "def compute_params_suffle_single_anim(data,rng,n_shuffle):\n",
    "    n_params = data.shape[1]\n",
    "    \n",
    "    params_shuffle_ctr = np.empty((n_shuffle,n_params))\n",
    "    params_shuffle_h3 = np.empty((n_shuffle,n_params))\n",
    "\n",
    "    for i_shuf in range(n_shuffle):\n",
    "        data_permut = shuffle_data(data, rng)\n",
    "        data_means = compute_means(data_permut, n1)\n",
    "        params_shuffle_ctr[i_shuf,:] = data_means[0]\n",
    "        params_shuffle_h3[i_shuf,:] = data_means[1]   \n",
    "    return params_shuffle_h3, params_shuffle_ctr\n"
   ]
  },
  {
   "cell_type": "code",
   "execution_count": 13,
   "id": "9012149d-ff3b-4385-b88b-b201fa690b17",
   "metadata": {
    "tags": []
   },
   "outputs": [],
   "source": [
    "def plot_fit_stats_results(data, n1, data_h3_fit, data_ctr_fit, \n",
    "                           params_h3,  params_ctr, params_shuffle_diff, fit_tau, fig_path):\n",
    "    \n",
    "    n_params = params_shuffle_diff.shape[1]\n",
    "    \n",
    "    data_means = compute_means(data, n1)\n",
    "    data_ctr_mean = data_means[0,:]\n",
    "    data_h3_mean = data_means[1,:]    \n",
    "    \n",
    "    data_stderr = compute_stderr(data, n1)\n",
    "    data_ctr_stderr = data_stderr[0,:]\n",
    "    data_h3_stderr = data_stderr[1,:]     \n",
    "    \n",
    "    \n",
    "    if fit_tau:\n",
    "        params_names = ['y0', 'plateau', 'tau']\n",
    "    else:\n",
    "        params_names = ['y0', 'plateau', 'cost rate']\n",
    "        \n",
    "    \n",
    "    colors_list = ['deepskyblue', 'orangered']\n",
    "\n",
    "    fig, axs = plt.subplots(nrows=1, ncols=4, figsize=(20,3.5), gridspec_kw={'width_ratios': [2, 1, 1, 1]})\n",
    "\n",
    "    axs[0].errorbar(t, data_h3_mean,data_h3_stderr,marker='o',linestyle='--',color=colors_list[0],alpha=.3)\n",
    "    axs[0].plot(t, data_h3_fit,color=colors_list[0],linewidth=2, label='h3')\n",
    "    axs[0].errorbar(t, data_ctr_mean,data_ctr_stderr,marker='o',linestyle='--',color=colors_list[1],alpha=.3)\n",
    "    axs[0].plot(t, data_ctr_fit,color=colors_list[1],linewidth=2,label='control')\n",
    "    axs[0].spines[['top', 'right']].set_visible(False)\n",
    "    axs[0].set_xlabel('Trial #');\n",
    "    axs[0].set_ylabel('Mean silhouette score');\n",
    "    axs[0].legend();\n",
    "\n",
    "    for i in range(n_params):\n",
    "        ax = axs[i+1]\n",
    "        \n",
    "        param_diff = params_h3[i] - params_ctr[i]\n",
    "\n",
    "        if (fit_tau) and (i==2): \n",
    "            perc_ref = np.percentile(params_shuffle_diff[:,i],5)\n",
    "            significant = params_h3[i] - params_ctr[i] < perc_ref\n",
    "        else:\n",
    "            perc_ref = np.percentile(params_shuffle_diff[:,i],95)\n",
    "            significant = params_h3[i] - params_ctr[i] > perc_ref\n",
    "            \n",
    "        pval = np.sum(params_shuffle_diff[:,i] > params_h3[i] - params_ctr[i]) / params_shuffle_diff.shape[0]\n",
    "        print(params_names[i] + ' p = ' + str(pval))\n",
    "        \n",
    "        res_hist = ax.hist(params_shuffle_diff[:,i],edgecolor='white',alpha=.5)\n",
    "        ymin = 0 \n",
    "        ymax = np.max(res_hist[0])\n",
    "        ax.vlines(perc_ref, ymin, ymax, color='r',linewidth=3)\n",
    "        ax.vlines(param_diff, ymin, ymax, color='g',linewidth=3)\n",
    "        ax.spines[['top', 'right']].set_visible(False)\n",
    "\n",
    "        if significant:\n",
    "            ax.set_title('Significant difference:' + params_names[i])\n",
    "        else:\n",
    "            ax.set_title('NOT significant diff: ' + params_names[i])\n",
    "\n",
    "\n",
    "    fig.savefig(fig_path, format=\"png\", bbox_inches=\"tight\", dpi=100)"
   ]
  },
  {
   "cell_type": "code",
   "execution_count": 14,
   "id": "22de4d55-8ce2-40d1-b9c1-1d2f433562cd",
   "metadata": {
    "tags": []
   },
   "outputs": [],
   "source": [
    "def plot_data_time_course(data, n1, data_h3_fit, data_ctr_fit, fig_path):\n",
    "        \n",
    "    data_means = compute_means(data, n1)\n",
    "    data_ctr_mean = data_means[0,:]\n",
    "    data_h3_mean = data_means[1,:]    \n",
    "    \n",
    "    data_stderr = compute_stderr(data, n1)\n",
    "    data_ctr_stderr = data_stderr[0,:]\n",
    "    data_h3_stderr = data_stderr[1,:]     \n",
    "    \n",
    "    \n",
    "    colors_list = ['orangered', 'deepskyblue']\n",
    "\n",
    "    fig, ax = plt.subplots(figsize=(7,3.5))\n",
    "\n",
    "    ax.errorbar(t, data_h3_mean,data_h3_stderr,marker='o',linestyle='--',color=colors_list[0],alpha=.3)\n",
    "    ax.plot(t, data_h3_fit,color=colors_list[0],linewidth=2, label='h3')\n",
    "    ax.errorbar(t, data_ctr_mean,data_ctr_stderr,marker='o',linestyle='--',color=colors_list[1],alpha=.3)\n",
    "    ax.plot(t, data_ctr_fit,color=colors_list[1],linewidth=2,label='control')\n",
    "    ax.spines[['top', 'right']].set_visible(False)\n",
    "    ax.set_xlabel('Trial #');\n",
    "    ax.set_ylabel('Mean silhouette score');\n",
    "    ax.legend();\n",
    "    fig.savefig(fig_path, format=\"svg\", bbox_inches=\"tight\", dpi=100)"
   ]
  },
  {
   "cell_type": "markdown",
   "id": "ab6b3810-b35c-4141-ab88-6831f082d5a9",
   "metadata": {},
   "source": [
    "# Datafolder definition\n",
    "Here you should put the folders where the data are"
   ]
  },
  {
   "cell_type": "code",
   "execution_count": 15,
   "id": "790e3091-3c00-43a8-884c-007aa8fc7e55",
   "metadata": {
    "tags": []
   },
   "outputs": [],
   "source": [
    "main_dir = '/home/stef/projects/rotariu_zalcman_2025'\n",
    "\n",
    "xlsx_dir = main_dir + '/files_xlsx'\n",
    "\n",
    "pickle_dir = main_dir + '/results/pickle/'\n",
    "plots_dir = main_dir + '/results/plots/'"
   ]
  },
  {
   "cell_type": "markdown",
   "id": "61905205-6af7-49b5-b6a2-452511fd6cd2",
   "metadata": {},
   "source": [
    "# Main code"
   ]
  },
  {
   "cell_type": "code",
   "execution_count": 16,
   "id": "a51d2278-84ba-403d-9b0f-d625e160405c",
   "metadata": {
    "tags": []
   },
   "outputs": [],
   "source": [
    "file_to_open = pickle_dir + 'ctr_h3_silh_results.pikcle'\n",
    "results_sil = pickle.load(open(file_to_open, \"rb\"))"
   ]
  },
  {
   "cell_type": "code",
   "execution_count": 17,
   "id": "8b0c05d9-e368-4ce8-b889-617ef65d16d1",
   "metadata": {
    "tags": []
   },
   "outputs": [],
   "source": [
    "ctr_h3_silh_dict = results_sil['ctr_h3_silh_dict']\n",
    "control_h3_dict = results_sil['control_h3_dict']\n",
    "\n",
    "n_ctr = len(ctr_h3_silh_dict['ctr'])\n",
    "silh_all = np.vstack((ctr_h3_silh_dict['ctr'],ctr_h3_silh_dict['h3']))\n",
    "fit_tau = False"
   ]
  },
  {
   "cell_type": "code",
   "execution_count": 18,
   "id": "fed87af3-e238-4106-ae62-2cd35fa4c3c0",
   "metadata": {
    "tags": []
   },
   "outputs": [],
   "source": [
    "data = silh_all\n",
    "n_trials = data.shape[1]\n",
    "n1 = n_ctr\n",
    "\n",
    "if fit_tau:\n",
    "    fun_fit = one_phase_ass_tau\n",
    "    bounds = ([0., 0., 1.],[1.,1., n_trials / 2])\n",
    "else:\n",
    "    fun_fit = one_phase_ass\n",
    "    bounds = ([0, 0, 2/n_trials],[1.,1., 1])"
   ]
  },
  {
   "cell_type": "code",
   "execution_count": 19,
   "id": "f2139740-94f1-41fa-b016-96c276b8ec44",
   "metadata": {},
   "outputs": [],
   "source": [
    "silh_ctr_mean, silh_h3_mean, params_silh_ctr, params_silh_h3 = compute_mean_fit(\n",
    "    data=data, n1=n1, fun=fun_fit, bounds=bounds)"
   ]
  },
  {
   "cell_type": "code",
   "execution_count": 20,
   "id": "ce444b8c-dabd-4c26-9376-26145e1ec576",
   "metadata": {
    "tags": []
   },
   "outputs": [],
   "source": [
    "n_shuffle = 1000\n",
    "rng = np.random.default_rng()\n",
    "\n",
    "params_shuffle_silh_h3, params_shuffle_silh_ctr = compute_params_suffle(\n",
    "    data=data,rng=rng,n1=n1,fun=fun_fit,bounds=bounds,n_shuffle=n_shuffle,n_params=3)\n",
    "\n",
    "params_shuffle_silh_diff =  params_shuffle_silh_h3 - params_shuffle_silh_ctr"
   ]
  },
  {
   "cell_type": "code",
   "execution_count": 21,
   "id": "4284bf82-2154-430d-b0a1-00cb5b030496",
   "metadata": {
    "tags": []
   },
   "outputs": [],
   "source": [
    "t = np.arange(1,n_trials+1)\n",
    "silh_ctr_fit = fun_fit(t, *params_silh_ctr)\n",
    "silh_h3_fit = fun_fit(t, *params_silh_h3)\n",
    "n_params = len(params_silh_h3)"
   ]
  },
  {
   "cell_type": "code",
   "execution_count": 22,
   "id": "95cd46be-04e5-406d-bb8c-061d453e82dc",
   "metadata": {},
   "outputs": [
    {
     "data": {
      "image/png": "[encoded data removed]",
      "text/plain": [
       "<Figure size 700x350 with 1 Axes>"
      ]
     },
     "metadata": {},
     "output_type": "display_data"
    }
   ],
   "source": [
    "fig_path = plots_dir + 'silhouette_timecourse.svg'\n",
    "plot_data_time_course(data=data, n1=n1, \n",
    "                      data_h3_fit=silh_h3_fit, data_ctr_fit=silh_ctr_fit, \n",
    "                      fig_path=fig_path)"
   ]
  },
  {
   "cell_type": "code",
   "execution_count": null,
   "id": "ec3408b8-e173-4219-9577-be1075073fa0",
   "metadata": {},
   "outputs": [],
   "source": []
  }
 ],
 "metadata": {
  "kernelspec": {
   "display_name": "Python 3 (ipykernel)",
   "language": "python",
   "name": "python3"
  },
  "language_info": {
   "codemirror_mode": {
    "name": "ipython",
    "version": 3
   },
   "file_extension": ".py",
   "mimetype": "text/x-python",
   "name": "python",
   "nbconvert_exporter": "python",
   "pygments_lexer": "ipython3",
   "version": "3.10.11"
  }
 },
 "nbformat": 4,
 "nbformat_minor": 5
}
